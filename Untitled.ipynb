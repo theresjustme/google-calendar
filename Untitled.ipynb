{
 "cells": [
  {
   "cell_type": "code",
   "execution_count": 5,
   "id": "ce9f5f18",
   "metadata": {},
   "outputs": [
    {
     "name": "stdout",
     "output_type": "stream",
     "text": [
      "Collecting google-api-PYTHON-client\n",
      "  Using cached google_api_python_client-2.60.0-py2.py3-none-any.whl (9.0 MB)\n",
      "Collecting httplib2<1dev,>=0.15.0\n",
      "  Using cached httplib2-0.20.4-py3-none-any.whl (96 kB)\n",
      "Collecting google-auth-httplib2>=0.1.0\n",
      "  Using cached google_auth_httplib2-0.1.0-py2.py3-none-any.whl (9.3 kB)\n",
      "Collecting uritemplate<5,>=3.0.1\n",
      "  Using cached uritemplate-4.1.1-py2.py3-none-any.whl (10 kB)\n",
      "Collecting google-api-core!=2.0.*,!=2.1.*,!=2.2.*,!=2.3.0,<3.0.0dev,>=1.31.5\n",
      "  Using cached google_api_core-2.10.0-py3-none-any.whl (115 kB)\n",
      "Collecting google-auth<3.0.0dev,>=1.19.0\n",
      "  Using cached google_auth-2.11.0-py2.py3-none-any.whl (167 kB)\n",
      "Collecting protobuf<5.0.0dev,>=3.20.1\n",
      "  Using cached protobuf-4.21.5-cp38-cp38-win_amd64.whl (525 kB)\n",
      "Collecting googleapis-common-protos<2.0dev,>=1.56.2\n",
      "  Using cached googleapis_common_protos-1.56.4-py2.py3-none-any.whl (211 kB)\n",
      "Requirement already satisfied: requests<3.0.0dev,>=2.18.0 in c:\\users\\tymek\\appdata\\local\\programs\\python\\python38\\lib\\site-packages (from google-api-core!=2.0.*,!=2.1.*,!=2.2.*,!=2.3.0,<3.0.0dev,>=1.31.5->google-api-PYTHON-client) (2.23.0)\n",
      "Collecting cachetools<6.0,>=2.0.0\n",
      "  Using cached cachetools-5.2.0-py3-none-any.whl (9.3 kB)\n",
      "Collecting pyasn1-modules>=0.2.1\n",
      "  Using cached pyasn1_modules-0.2.8-py2.py3-none-any.whl (155 kB)\n",
      "Requirement already satisfied: six>=1.9.0 in c:\\users\\tymek\\appdata\\local\\programs\\python\\python38\\lib\\site-packages (from google-auth<3.0.0dev,>=1.19.0->google-api-PYTHON-client) (1.13.0)\n",
      "Collecting rsa<5,>=3.1.4\n",
      "  Using cached rsa-4.9-py3-none-any.whl (34 kB)\n",
      "Requirement already satisfied: pyparsing!=3.0.0,!=3.0.1,!=3.0.2,!=3.0.3,<4,>=2.4.2 in c:\\users\\tymek\\appdata\\local\\programs\\python\\python38\\lib\\site-packages (from httplib2<1dev,>=0.15.0->google-api-PYTHON-client) (2.4.6)\n",
      "Collecting pyasn1<0.5.0,>=0.4.6\n",
      "  Using cached pyasn1-0.4.8-py2.py3-none-any.whl (77 kB)\n",
      "Requirement already satisfied: certifi>=2017.4.17 in c:\\users\\tymek\\appdata\\local\\programs\\python\\python38\\lib\\site-packages (from requests<3.0.0dev,>=2.18.0->google-api-core!=2.0.*,!=2.1.*,!=2.2.*,!=2.3.0,<3.0.0dev,>=1.31.5->google-api-PYTHON-client) (2019.11.28)\n",
      "Requirement already satisfied: chardet<4,>=3.0.2 in c:\\users\\tymek\\appdata\\local\\programs\\python\\python38\\lib\\site-packages (from requests<3.0.0dev,>=2.18.0->google-api-core!=2.0.*,!=2.1.*,!=2.2.*,!=2.3.0,<3.0.0dev,>=1.31.5->google-api-PYTHON-client) (3.0.4)\n",
      "Requirement already satisfied: urllib3!=1.25.0,!=1.25.1,<1.26,>=1.21.1 in c:\\users\\tymek\\appdata\\local\\programs\\python\\python38\\lib\\site-packages (from requests<3.0.0dev,>=2.18.0->google-api-core!=2.0.*,!=2.1.*,!=2.2.*,!=2.3.0,<3.0.0dev,>=1.31.5->google-api-PYTHON-client) (1.25.8)\n",
      "Requirement already satisfied: idna<3,>=2.5 in c:\\users\\tymek\\appdata\\local\\programs\\python\\python38\\lib\\site-packages (from requests<3.0.0dev,>=2.18.0->google-api-core!=2.0.*,!=2.1.*,!=2.2.*,!=2.3.0,<3.0.0dev,>=1.31.5->google-api-PYTHON-client) (2.9)\n",
      "Installing collected packages: pyasn1, rsa, pyasn1-modules, protobuf, cachetools, httplib2, googleapis-common-protos, google-auth, uritemplate, google-auth-httplib2, google-api-core, google-api-PYTHON-client\n",
      "Successfully installed cachetools-5.2.0 google-api-PYTHON-client-2.60.0 google-api-core-2.10.0 google-auth-2.11.0 google-auth-httplib2-0.1.0 googleapis-common-protos-1.56.4 httplib2-0.20.4 protobuf-4.21.5 pyasn1-0.4.8 pyasn1-modules-0.2.8 rsa-4.9 uritemplate-4.1.1\n",
      "Note: you may need to restart the kernel to use updated packages.\n"
     ]
    },
    {
     "name": "stderr",
     "output_type": "stream",
     "text": [
      "WARNING: You are using pip version 21.0.1; however, version 22.2.2 is available.\n",
      "You should consider upgrading via the 'c:\\users\\tymek\\appdata\\local\\programs\\python\\python38\\python.exe -m pip install --upgrade pip' command.\n"
     ]
    }
   ],
   "source": [
    "pip install google-api-python-client\n"
   ]
  },
  {
   "cell_type": "code",
   "execution_count": 2,
   "id": "72b2d855",
   "metadata": {},
   "outputs": [
    {
     "name": "stdout",
     "output_type": "stream",
     "text": [
      "Collecting google_auth_oauthlib\n",
      "  Using cached google_auth_oauthlib-0.5.2-py2.py3-none-any.whl (19 kB)\n",
      "Requirement already satisfied: google-auth>=1.0.0 in c:\\users\\tymek\\appdata\\local\\programs\\python\\python38\\lib\\site-packages (from google_auth_oauthlib) (2.11.0)\n",
      "Collecting requests-oauthlib>=0.7.0\n",
      "  Using cached requests_oauthlib-1.3.1-py2.py3-none-any.whl (23 kB)\n",
      "Requirement already satisfied: pyasn1-modules>=0.2.1 in c:\\users\\tymek\\appdata\\local\\programs\\python\\python38\\lib\\site-packages (from google-auth>=1.0.0->google_auth_oauthlib) (0.2.8)\n",
      "Requirement already satisfied: cachetools<6.0,>=2.0.0 in c:\\users\\tymek\\appdata\\local\\programs\\python\\python38\\lib\\site-packages (from google-auth>=1.0.0->google_auth_oauthlib) (5.2.0)\n",
      "Requirement already satisfied: rsa<5,>=3.1.4 in c:\\users\\tymek\\appdata\\local\\programs\\python\\python38\\lib\\site-packages (from google-auth>=1.0.0->google_auth_oauthlib) (4.9)\n",
      "Requirement already satisfied: six>=1.9.0 in c:\\users\\tymek\\appdata\\local\\programs\\python\\python38\\lib\\site-packages (from google-auth>=1.0.0->google_auth_oauthlib) (1.13.0)\n",
      "Requirement already satisfied: pyasn1<0.5.0,>=0.4.6 in c:\\users\\tymek\\appdata\\local\\programs\\python\\python38\\lib\\site-packages (from pyasn1-modules>=0.2.1->google-auth>=1.0.0->google_auth_oauthlib) (0.4.8)\n",
      "Collecting oauthlib>=3.0.0\n",
      "  Using cached oauthlib-3.2.0-py3-none-any.whl (151 kB)\n",
      "Requirement already satisfied: requests>=2.0.0 in c:\\users\\tymek\\appdata\\local\\programs\\python\\python38\\lib\\site-packages (from requests-oauthlib>=0.7.0->google_auth_oauthlib) (2.23.0)\n",
      "Requirement already satisfied: certifi>=2017.4.17 in c:\\users\\tymek\\appdata\\local\\programs\\python\\python38\\lib\\site-packages (from requests>=2.0.0->requests-oauthlib>=0.7.0->google_auth_oauthlib) (2019.11.28)\n",
      "Requirement already satisfied: chardet<4,>=3.0.2 in c:\\users\\tymek\\appdata\\local\\programs\\python\\python38\\lib\\site-packages (from requests>=2.0.0->requests-oauthlib>=0.7.0->google_auth_oauthlib) (3.0.4)\n",
      "Requirement already satisfied: urllib3!=1.25.0,!=1.25.1,<1.26,>=1.21.1 in c:\\users\\tymek\\appdata\\local\\programs\\python\\python38\\lib\\site-packages (from requests>=2.0.0->requests-oauthlib>=0.7.0->google_auth_oauthlib) (1.25.8)\n",
      "Requirement already satisfied: idna<3,>=2.5 in c:\\users\\tymek\\appdata\\local\\programs\\python\\python38\\lib\\site-packages (from requests>=2.0.0->requests-oauthlib>=0.7.0->google_auth_oauthlib) (2.9)\n",
      "Installing collected packages: oauthlib, requests-oauthlib, google-auth-oauthlib\n",
      "Successfully installed google-auth-oauthlib-0.5.2 oauthlib-3.2.0 requests-oauthlib-1.3.1\n",
      "Note: you may need to restart the kernel to use updated packages.\n"
     ]
    },
    {
     "name": "stderr",
     "output_type": "stream",
     "text": [
      "WARNING: You are using pip version 21.0.1; however, version 22.2.2 is available.\n",
      "You should consider upgrading via the 'c:\\users\\tymek\\appdata\\local\\programs\\python\\python38\\python.exe -m pip install --upgrade pip' command.\n"
     ]
    }
   ],
   "source": [
    "pip install google_auth_oauthlib\n"
   ]
  },
  {
   "cell_type": "code",
   "execution_count": 24,
   "id": "c0e6fb81",
   "metadata": {},
   "outputs": [
    {
     "name": "stdout",
     "output_type": "stream",
     "text": [
      "Please visit this URL to authorize this application: https://accounts.google.com/o/oauth2/auth?response_type=code&client_id=752346270342-cteh74n75jl17275fs183mo5b2o59l35.apps.googleusercontent.com&redirect_uri=urn%3Aietf%3Awg%3Aoauth%3A2.0%3Aoob&scope=https%3A%2F%2Fwww.googleapis.com%2Fauth%2Fcalendar&state=8teUDjuFqXcbOVSOaieHTqs8540Bs0&prompt=consent&access_type=offline\n",
      "Enter the authorization code: 4/1AdQt8qi2wsgZrnAO2Oaj7fGSRFyDNP1EZLUFVcgnvL3n-6VHVRGIsYQ5H1o\n",
      "<google.oauth2.credentials.Credentials object at 0x0000024AFB3D67C0>\n"
     ]
    }
   ],
   "source": [
    "from googleapiclient.discovery import build\n",
    "from google_auth_oauthlib.flow import InstalledAppFlow\n",
    "\n",
    "scopes = ['https://www.googleapis.com/auth/calendar']\n",
    "flow = InstalledAppFlow.from_client_secrets_file(\"client_secret.json\", scopes=scopes)\n",
    "\n",
    "credentials = flow.run_console()\n",
    "print(credentials)"
   ]
  },
  {
   "cell_type": "code",
   "execution_count": 1,
   "id": "bb38cd0a",
   "metadata": {},
   "outputs": [],
   "source": [
    "from googleapiclient.discovery import build\n",
    "from google_auth_oauthlib.flow import InstalledAppFlow\n",
    "\n",
    "scopes = ['https://www.googleapis.com/auth/calendar']"
   ]
  },
  {
   "cell_type": "code",
   "execution_count": 2,
   "id": "8f3211d3",
   "metadata": {},
   "outputs": [],
   "source": [
    "import pickle"
   ]
  },
  {
   "cell_type": "code",
   "execution_count": 26,
   "id": "e47ce4d6",
   "metadata": {},
   "outputs": [],
   "source": [
    "pickle.dump(credentials, open(\"token.txt\", \"wb\"))"
   ]
  },
  {
   "cell_type": "code",
   "execution_count": 3,
   "id": "89e6d957",
   "metadata": {},
   "outputs": [],
   "source": [
    "credentials = pickle.load(open(\"token.txt\", \"rb\"))"
   ]
  },
  {
   "cell_type": "code",
   "execution_count": 4,
   "id": "07895c34",
   "metadata": {},
   "outputs": [
    {
     "data": {
      "text/plain": [
       "<google.oauth2.credentials.Credentials at 0x2348f0f4d30>"
      ]
     },
     "execution_count": 4,
     "metadata": {},
     "output_type": "execute_result"
    }
   ],
   "source": [
    "credentials"
   ]
  },
  {
   "cell_type": "code",
   "execution_count": 5,
   "id": "a54fe413",
   "metadata": {},
   "outputs": [],
   "source": [
    "service = build(\"calendar\", \"v3\", credentials=credentials )"
   ]
  },
  {
   "cell_type": "code",
   "execution_count": 6,
   "id": "5675d3d2",
   "metadata": {},
   "outputs": [],
   "source": [
    "result = service.events().list(calendarId='sprawdzacz12@gmail.com').execute()"
   ]
  },
  {
   "cell_type": "code",
   "execution_count": 7,
   "id": "b2e3b51d",
   "metadata": {},
   "outputs": [
    {
     "data": {
      "text/plain": [
       "{'kind': 'calendar#events',\n",
       " 'etag': '\"p32ka9k4svu7fk0g\"',\n",
       " 'summary': 'sprawdzacz12@gmail.com',\n",
       " 'updated': '2022-09-12T09:59:28.873Z',\n",
       " 'timeZone': 'Europe/Warsaw',\n",
       " 'accessRole': 'owner',\n",
       " 'defaultReminders': [{'method': 'popup', 'minutes': 30}],\n",
       " 'nextSyncToken': 'CKik0Jz_jvoCEKik0Jz_jvoCGAUgxvHH4QE=',\n",
       " 'items': [{'kind': 'calendar#event',\n",
       "   'etag': '\"3325950076770000\"',\n",
       "   'id': '26ara6k7nvn9tnvltgvmabj28v',\n",
       "   'status': 'confirmed',\n",
       "   'htmlLink': 'https://www.google.com/calendar/event?eid=MjZhcmE2azdudm45dG52bHRndm1hYmoyOHYgc3ByYXdkemFjejEyQG0',\n",
       "   'created': '2022-09-12T09:30:38.000Z',\n",
       "   'updated': '2022-09-12T09:30:38.385Z',\n",
       "   'summary': 'drugie wydarzenie',\n",
       "   'creator': {'email': 'sprawdzacz12@gmail.com', 'self': True},\n",
       "   'organizer': {'email': 'sprawdzacz12@gmail.com', 'self': True},\n",
       "   'start': {'date': '2022-09-15'},\n",
       "   'end': {'date': '2022-09-20'},\n",
       "   'transparency': 'transparent',\n",
       "   'iCalUID': '26ara6k7nvn9tnvltgvmabj28v@google.com',\n",
       "   'sequence': 0,\n",
       "   'reminders': {'useDefault': False},\n",
       "   'eventType': 'default'},\n",
       "  {'kind': 'calendar#event',\n",
       "   'etag': '\"3325950117418000\"',\n",
       "   'id': '5piabi32etbl9s3b8msn1kckju',\n",
       "   'status': 'confirmed',\n",
       "   'htmlLink': 'https://www.google.com/calendar/event?eid=NXBpYWJpMzJldGJsOXMzYjhtc24xa2NranUgc3ByYXdkemFjejEyQG0',\n",
       "   'created': '2022-09-12T09:30:58.000Z',\n",
       "   'updated': '2022-09-12T09:30:58.709Z',\n",
       "   'summary': 'jeszcze jedna',\n",
       "   'creator': {'email': 'sprawdzacz12@gmail.com', 'self': True},\n",
       "   'organizer': {'email': 'sprawdzacz12@gmail.com', 'self': True},\n",
       "   'start': {'date': '2022-08-31'},\n",
       "   'end': {'date': '2022-09-07'},\n",
       "   'transparency': 'transparent',\n",
       "   'iCalUID': '5piabi32etbl9s3b8msn1kckju@google.com',\n",
       "   'sequence': 0,\n",
       "   'reminders': {'useDefault': False},\n",
       "   'eventType': 'default'},\n",
       "  {'kind': 'calendar#event',\n",
       "   'etag': '\"3325953537746000\"',\n",
       "   'id': '3ub6sc2j17h2efmcolglo7rrdr',\n",
       "   'status': 'confirmed',\n",
       "   'htmlLink': 'https://www.google.com/calendar/event?eid=M3ViNnNjMmoxN2gyZWZtY29sZ2xvN3JyZHIgc3ByYXdkemFjejEyQG0',\n",
       "   'created': '2022-09-10T09:31:59.000Z',\n",
       "   'updated': '2022-09-12T09:59:28.873Z',\n",
       "   'summary': 'Maciek - Główny, Kawiarenka - Tymek, Wersety Ukraińskie - Maks',\n",
       "   'creator': {'email': 'sprawdzacz12@gmail.com', 'self': True},\n",
       "   'organizer': {'email': 'sprawdzacz12@gmail.com', 'self': True},\n",
       "   'start': {'date': '2022-09-07'},\n",
       "   'end': {'date': '2022-09-15'},\n",
       "   'transparency': 'transparent',\n",
       "   'iCalUID': '3ub6sc2j17h2efmcolglo7rrdr@google.com',\n",
       "   'sequence': 0,\n",
       "   'reminders': {'useDefault': False},\n",
       "   'eventType': 'default'}]}"
      ]
     },
     "execution_count": 7,
     "metadata": {},
     "output_type": "execute_result"
    }
   ],
   "source": [
    "result"
   ]
  },
  {
   "cell_type": "code",
   "execution_count": 32,
   "id": "6b04a6d7",
   "metadata": {},
   "outputs": [
    {
     "data": {
      "text/plain": [
       "{'kind': 'calendar#event',\n",
       " 'etag': '\"3325604638666000\"',\n",
       " 'id': '3ub6sc2j17h2efmcolglo7rrdr',\n",
       " 'status': 'confirmed',\n",
       " 'htmlLink': 'https://www.google.com/calendar/event?eid=M3ViNnNjMmoxN2gyZWZtY29sZ2xvN3JyZHIgc3ByYXdkemFjejEyQG0',\n",
       " 'created': '2022-09-10T09:31:59.000Z',\n",
       " 'updated': '2022-09-10T09:31:59.333Z',\n",
       " 'summary': 'termin',\n",
       " 'creator': {'email': 'sprawdzacz12@gmail.com', 'self': True},\n",
       " 'organizer': {'email': 'sprawdzacz12@gmail.com', 'self': True},\n",
       " 'start': {'date': '2022-09-07'},\n",
       " 'end': {'date': '2022-09-15'},\n",
       " 'transparency': 'transparent',\n",
       " 'iCalUID': '3ub6sc2j17h2efmcolglo7rrdr@google.com',\n",
       " 'sequence': 0,\n",
       " 'reminders': {'useDefault': False},\n",
       " 'eventType': 'default'}"
      ]
     },
     "execution_count": 32,
     "metadata": {},
     "output_type": "execute_result"
    }
   ],
   "source": [
    "result['items'][-1]"
   ]
  },
  {
   "cell_type": "code",
   "execution_count": null,
   "id": "88c26f22",
   "metadata": {},
   "outputs": [],
   "source": []
  },
  {
   "cell_type": "code",
   "execution_count": null,
   "id": "2509919b",
   "metadata": {},
   "outputs": [],
   "source": []
  },
  {
   "cell_type": "code",
   "execution_count": null,
   "id": "17247fda",
   "metadata": {},
   "outputs": [],
   "source": []
  }
 ],
 "metadata": {
  "kernelspec": {
   "display_name": "Python 3",
   "language": "python",
   "name": "python3"
  },
  "language_info": {
   "codemirror_mode": {
    "name": "ipython",
    "version": 3
   },
   "file_extension": ".py",
   "mimetype": "text/x-python",
   "name": "python",
   "nbconvert_exporter": "python",
   "pygments_lexer": "ipython3",
   "version": "3.8.1"
  }
 },
 "nbformat": 4,
 "nbformat_minor": 5
}
